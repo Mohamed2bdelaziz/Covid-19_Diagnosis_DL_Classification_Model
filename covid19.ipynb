{
 "cells": [
  {
   "cell_type": "code",
   "execution_count": 1,
   "metadata": {
    "executionInfo": {
     "elapsed": 2876,
     "status": "ok",
     "timestamp": 1663232212269,
     "user": {
      "displayName": "Mohamed Abdelaziz",
      "userId": "01616551640765090886"
     },
     "user_tz": -120
    },
    "id": "4JX0O4o-0Ak5"
   },
   "outputs": [],
   "source": [
    "import numpy as np\n",
    "import pandas as pd\n",
    "import matplotlib.pyplot as plt\n",
    "%matplotlib inline\n",
    "\n",
    "import keras\n",
    "from keras.models import *\n",
    "from keras.layers import *\n",
    "from keras.metrics import Recall\n",
    "from PIL import Image\n",
    "from numpy import asarray\n",
    "import sklearn\n",
    "from sklearn.model_selection import train_test_split\n",
    "\n",
    "\n",
    "from sklearn.metrics import classification_report\n",
    "from sklearn.metrics import confusion_matrix\n",
    "from sklearn.metrics import accuracy_score\n",
    "from sklearn.neighbors import KNeighborsClassifier\n",
    "from sklearn.svm import SVC\n"
   ]
  },
  {
   "cell_type": "code",
   "execution_count": 2,
   "metadata": {
    "colab": {
     "base_uri": "https://localhost:8080/"
    },
    "executionInfo": {
     "elapsed": 38999,
     "status": "ok",
     "timestamp": 1663232251265,
     "user": {
      "displayName": "Mohamed Abdelaziz",
      "userId": "01616551640765090886"
     },
     "user_tz": -120
    },
    "id": "gUfqI3PwC3QW",
    "outputId": "ad7d91d1-f48e-44ad-d7ad-5c563732786c"
   },
   "outputs": [
    {
     "name": "stdout",
     "output_type": "stream",
     "text": [
      "--2022-09-15 08:56:50--  http://cb.lk/covid_19\n",
      "Resolving cb.lk (cb.lk)... 172.67.187.81, 104.21.72.203, 2606:4700:3032::ac43:bb51, ...\n",
      "Connecting to cb.lk (cb.lk)|172.67.187.81|:80... connected.\n",
      "HTTP request sent, awaiting response... 301 Moved Permanently\n",
      "Location: https://cb.lk/covid_19 [following]\n",
      "--2022-09-15 08:56:51--  https://cb.lk/covid_19\n",
      "Connecting to cb.lk (cb.lk)|172.67.187.81|:443... connected.\n",
      "HTTP request sent, awaiting response... 302 Found\n",
      "Location: https://www.dropbox.com/s/7rjw6oet4za01op/CovidDataset-20200427T133042Z-001.zip?dl=0 [following]\n",
      "--2022-09-15 08:56:51--  https://www.dropbox.com/s/7rjw6oet4za01op/CovidDataset-20200427T133042Z-001.zip?dl=0\n",
      "Resolving www.dropbox.com (www.dropbox.com)... 162.125.5.18, 2620:100:601d:18::a27d:512\n",
      "Connecting to www.dropbox.com (www.dropbox.com)|162.125.5.18|:443... connected.\n",
      "HTTP request sent, awaiting response... 302 Found\n",
      "Location: /s/raw/7rjw6oet4za01op/CovidDataset-20200427T133042Z-001.zip [following]\n",
      "--2022-09-15 08:56:52--  https://www.dropbox.com/s/raw/7rjw6oet4za01op/CovidDataset-20200427T133042Z-001.zip\n",
      "Reusing existing connection to www.dropbox.com:443.\n",
      "HTTP request sent, awaiting response... 302 Found\n",
      "Location: https://uc72bba3e0d0f48f4d53650478c9.dl.dropboxusercontent.com/cd/0/inline/Bs_e5cKrNefKs4JgREbbkfuU2RpLSE3hoxM2HwReHrzb_3DF8WgrG9HKPGVNjf1JBtkIY1Uz_mwQ-qz1E8Njha1-zfRk-Va806xP_fJ6mpVRBT7yBXTz_Hz2akRhfd0Bqsj0dAI8gz9TGkqWntbWhsE68atl47K246TLD4UGxsWU6A/file# [following]\n",
      "--2022-09-15 08:56:52--  https://uc72bba3e0d0f48f4d53650478c9.dl.dropboxusercontent.com/cd/0/inline/Bs_e5cKrNefKs4JgREbbkfuU2RpLSE3hoxM2HwReHrzb_3DF8WgrG9HKPGVNjf1JBtkIY1Uz_mwQ-qz1E8Njha1-zfRk-Va806xP_fJ6mpVRBT7yBXTz_Hz2akRhfd0Bqsj0dAI8gz9TGkqWntbWhsE68atl47K246TLD4UGxsWU6A/file\n",
      "Resolving uc72bba3e0d0f48f4d53650478c9.dl.dropboxusercontent.com (uc72bba3e0d0f48f4d53650478c9.dl.dropboxusercontent.com)... 162.125.5.15, 2620:100:601d:15::a27d:50f\n",
      "Connecting to uc72bba3e0d0f48f4d53650478c9.dl.dropboxusercontent.com (uc72bba3e0d0f48f4d53650478c9.dl.dropboxusercontent.com)|162.125.5.15|:443... connected.\n",
      "HTTP request sent, awaiting response... 302 Found\n",
      "Location: /cd/0/inline2/Bs-8p2ilzIuSJ0LFvwMBuYd3gMhLMo6eoFAoEdQ9zhTkHPp523B3w2xGuh3GAJcbAYLYT6KAJ47GjMIaSpu2jKs3IGc0tKxmY_XmJMvSCXuJWUg42RfcFopfKNRbFujYaccyCoVxZkiehtDZUorxrC-eP3bGNC45xyzXDMkiIxKy-Tn8E-WHArF7PKv1KczA6-V_rrlEBPkP_5DDnGZwYOSeEm0vJe9cizFHAhRs-CofgKLToVCdW0oFo4EREdg0Y6wpRZAdvXDiWy1Gdi6KzeA91Uu3O5IAxOVcqa1wQm6-f_K7Cr50XS01KLZVtdFXT1DtbCZFCL36cD0CwDxjUxFbrNWf3fSo-phhek1oh-Xe4D-wxO2sfvg2CPJxBc_lNlIM0V39zTa6mtSl73UG1CoOVnlrEhUG0tsMeHli8TesRw/file [following]\n",
      "--2022-09-15 08:56:52--  https://uc72bba3e0d0f48f4d53650478c9.dl.dropboxusercontent.com/cd/0/inline2/Bs-8p2ilzIuSJ0LFvwMBuYd3gMhLMo6eoFAoEdQ9zhTkHPp523B3w2xGuh3GAJcbAYLYT6KAJ47GjMIaSpu2jKs3IGc0tKxmY_XmJMvSCXuJWUg42RfcFopfKNRbFujYaccyCoVxZkiehtDZUorxrC-eP3bGNC45xyzXDMkiIxKy-Tn8E-WHArF7PKv1KczA6-V_rrlEBPkP_5DDnGZwYOSeEm0vJe9cizFHAhRs-CofgKLToVCdW0oFo4EREdg0Y6wpRZAdvXDiWy1Gdi6KzeA91Uu3O5IAxOVcqa1wQm6-f_K7Cr50XS01KLZVtdFXT1DtbCZFCL36cD0CwDxjUxFbrNWf3fSo-phhek1oh-Xe4D-wxO2sfvg2CPJxBc_lNlIM0V39zTa6mtSl73UG1CoOVnlrEhUG0tsMeHli8TesRw/file\n",
      "Reusing existing connection to uc72bba3e0d0f48f4d53650478c9.dl.dropboxusercontent.com:443.\n",
      "HTTP request sent, awaiting response... 200 OK\n",
      "Length: 140830621 (134M) [application/zip]\n",
      "Saving to: ‘covid_19.3’\n",
      "\n",
      "covid_19.3          100%[===================>] 134.31M  83.3MB/s    in 1.6s    \n",
      "\n",
      "2022-09-15 08:56:54 (83.3 MB/s) - ‘covid_19.3’ saved [140830621/140830621]\n",
      "\n",
      "Archive:  covid_19\n",
      "replace CovidDataset/Val/Covid/88de9d8c39e946abd495b37cd07d89e5-6531-0.jpg? [y]es, [n]o, [A]ll, [N]one, [r]ename: A\n",
      "  inflating: CovidDataset/Val/Covid/88de9d8c39e946abd495b37cd07d89e5-6531-0.jpg  \n",
      "  inflating: CovidDataset/Val/Covid/covid-19-pneumonia-8.jpg  \n",
      "  inflating: CovidDataset/Val/Covid/85E52EB3-56E9-4D67-82DA-DEA247C82886.jpeg  \n",
      "  inflating: CovidDataset/Val/Covid/4-x-day1.jpg  \n",
      "  inflating: CovidDataset/Val/Covid/covid-19-pneumonia-53.jpg  \n",
      "  inflating: CovidDataset/Val/Covid/4e43e48d52c9e2d4c6c1fb9bc1544f_jumbo.jpeg  \n",
      "  inflating: CovidDataset/Val/Covid/covid-19-pneumonia-35-1.jpg  \n",
      "  inflating: CovidDataset/Val/Covid/53EC07C9-5CC6-4BE4-9B6F-D7B0D72AAA7E.jpeg  \n",
      "  inflating: CovidDataset/Val/Covid/6CB4EFC6-68FA-4CD5-940C-BEFA8DAFE9A7.jpeg  \n",
      "  inflating: CovidDataset/Val/Covid/58cb9263f16e94305c730685358e4e_jumbo.jpeg  \n",
      "  inflating: CovidDataset/Val/Covid/6b3bdbc31f65230b8cdcc3cef5f8ba8a-40ac-0.jpg  \n",
      "  inflating: CovidDataset/Val/Covid/auntminnie-d-2020_01_28_23_51_6665_2020_01_28_Vietnam_coronavirus.jpeg  \n",
      "  inflating: CovidDataset/Val/Covid/6b44464d-73a7-4cf3-bbb6-ffe7168300e3.annot.original.jpeg  \n",
      "  inflating: CovidDataset/Val/Covid/88de9d8c39e946abd495b37cd07d89e5-2ee6-0.jpg  \n",
      "  inflating: CovidDataset/Val/Covid/31BA3780-2323-493F-8AED-62081B9C383B.jpeg  \n",
      "  inflating: CovidDataset/Val/Covid/B2D20576-00B7-4519-A415-72DE29C90C34.jpeg  \n",
      "  inflating: CovidDataset/Val/Covid/6C94A287-C059-46A0-8600-AFB95F4727B7.jpeg  \n",
      "  inflating: CovidDataset/Train/Covid/1-s2.0-S1684118220300682-main.pdf-003-b2.png  \n",
      "  inflating: CovidDataset/Val/Covid/41591_2020_819_Fig1_HTML.webp-day5.png  \n",
      "  inflating: CovidDataset/Val/Covid/41591_2020_819_Fig1_HTML.webp-day10.png  \n",
      "  inflating: CovidDataset/Train/Covid/1-s2.0-S1684118220300682-main.pdf-003-b1.png  \n",
      "  inflating: CovidDataset/Val/Covid/16654_2_1.jpg  \n",
      "  inflating: CovidDataset/Train/Covid/nCoV-radiol.2020200269.fig1-day7.jpeg  \n",
      "  inflating: CovidDataset/Val/Covid/auntminnie-c-2020_01_28_23_51_6665_2020_01_28_Vietnam_coronavirus.jpeg  \n",
      "  inflating: CovidDataset/Train/Covid/7-fatal-covid19.jpg  \n",
      "  inflating: CovidDataset/Train/Covid/auntminnie-b-2020_01_28_23_51_6665_2020_01_28_Vietnam_coronavirus.jpeg  \n",
      "  inflating: CovidDataset/Train/Normal/NORMAL2-IM-0986-0001.jpeg  \n",
      "  inflating: CovidDataset/Train/Normal/IM-0332-0001.jpeg  \n",
      "  inflating: CovidDataset/Train/Covid/extubation-13.jpg  \n",
      "  inflating: CovidDataset/Val/Covid/covid-19-pneumonia-35-2.jpg  \n",
      "  inflating: CovidDataset/Train/Normal/NORMAL2-IM-1337-0001.jpeg  \n",
      "  inflating: CovidDataset/Val/Covid/covid-19-pneumonia-12.jpg  \n",
      "  inflating: CovidDataset/Train/Normal/IM-0644-0001-0002.jpeg  \n",
      "  inflating: CovidDataset/Train/Covid/ryct.2020200034.fig5-day7.jpeg  \n",
      "  inflating: CovidDataset/Val/Covid/7AF6C1AF-D249-4BD2-8C26-449304105D03.jpeg  \n",
      "  inflating: CovidDataset/Train/Covid/covid-19-pneumonia-15-PA.jpg  \n",
      "  inflating: CovidDataset/Train/Covid/1-s2.0-S1684118220300608-main.pdf-002.jpg  \n",
      "  inflating: CovidDataset/Train/Normal/IM-0528-0001.jpeg  \n",
      "  inflating: CovidDataset/Train/Covid/80446565-E090-4187-A031-9D3CEAA586C8.jpeg  \n",
      "  inflating: CovidDataset/Train/Covid/1-s2.0-S0929664620300449-gr2_lrg-d.jpg  \n",
      "  inflating: CovidDataset/Train/Covid/covid-19-pneumonia-bilateral.jpg  \n",
      "  inflating: CovidDataset/Train/Normal/NORMAL2-IM-1020-0001-0001.jpeg  \n",
      "  inflating: CovidDataset/Train/Covid/E63574A7-4188-4C8D-8D17-9D67A18A1AFA.jpeg  \n",
      "  inflating: CovidDataset/Train/Normal/IM-0327-0001.jpeg  \n",
      "  inflating: CovidDataset/Train/Covid/AR-1.jpg  \n",
      "  inflating: CovidDataset/Train/Covid/F2DE909F-E19C-4900-92F5-8F435B031AC6.jpeg  \n",
      "  inflating: CovidDataset/Val/Normal/NORMAL2-IM-0851-0001.jpeg  \n",
      "  inflating: CovidDataset/Train/Covid/covid-19-pneumonia-2.jpg  \n",
      "  inflating: CovidDataset/Train/Normal/IM-0539-0001.jpeg  \n",
      "  inflating: CovidDataset/Train/Normal/IM-0495-0001.jpeg  \n",
      "  inflating: CovidDataset/Train/Normal/IM-0533-0001-0002.jpeg  \n",
      "  inflating: CovidDataset/Train/Normal/IM-0724-0001.jpeg  \n",
      "  inflating: CovidDataset/Train/Covid/1.CXRCTThoraximagesofCOVID-19fromSingapore.pdf-001-fig2a.png  \n",
      "  inflating: CovidDataset/Train/Covid/1-s2.0-S0140673620303706-fx1_lrg.jpg  \n",
      "  inflating: CovidDataset/Train/Normal/IM-0491-0001-0002.jpeg  \n",
      "  inflating: CovidDataset/Train/Covid/covid-19-pneumonia-58-day-9.jpg  \n",
      "  inflating: CovidDataset/Train/Normal/IM-0555-0001.jpeg  \n",
      "  inflating: CovidDataset/Train/Covid/1.CXRCTThoraximagesofCOVID-19fromSingapore.pdf-000-fig1b.png  \n",
      "  inflating: CovidDataset/Train/Normal/IM-0326-0001.jpeg  \n",
      "  inflating: CovidDataset/Train/Covid/covid-19-caso-70-1-PA.jpg  \n",
      "  inflating: CovidDataset/Train/Covid/1.CXRCTThoraximagesofCOVID-19fromSingapore.pdf-001-fig2b.png  \n",
      "  inflating: CovidDataset/Val/Normal/NORMAL2-IM-0730-0001.jpeg  \n",
      "  inflating: CovidDataset/Train/Normal/IM-0451-0001.jpeg  \n",
      "  inflating: CovidDataset/Val/Covid/7C69C012-7479-493F-8722-ABC29C60A2DD.jpeg  \n",
      "  inflating: CovidDataset/Train/Covid/16660_2_1.jpg  \n",
      "  inflating: CovidDataset/Train/Covid/1-s2.0-S1684118220300608-main.pdf-001.jpg  \n",
      "  inflating: CovidDataset/Train/Covid/kjr-21-e24-g003-l-a.jpg  \n",
      "  inflating: CovidDataset/Train/Covid/nejmoa2001191_f1-PA.jpeg  \n",
      "  inflating: CovidDataset/Train/Normal/IM-0534-0001.jpeg  \n",
      "  inflating: CovidDataset/Train/Covid/kjr-21-e24-g002-l-a.jpg  \n",
      "  inflating: CovidDataset/Train/Covid/covid-19-pneumonia-38-pa.jpg  \n",
      "  inflating: CovidDataset/Train/Normal/NORMAL2-IM-0529-0001.jpeg  \n",
      "  inflating: CovidDataset/Train/Covid/9C34AF49-E589-44D5-92D3-168B3B04E4A6.jpeg  \n",
      "  inflating: CovidDataset/Train/Normal/IM-0221-0001.jpeg  \n",
      "  inflating: CovidDataset/Val/Normal/NORMAL2-IM-1191-0001.jpeg  \n",
      "  inflating: CovidDataset/Train/Normal/NORMAL2-IM-0831-0001.jpeg  \n",
      "  inflating: CovidDataset/Train/Normal/IM-0500-0001.jpeg  \n",
      "  inflating: CovidDataset/Val/Normal/NORMAL2-IM-1228-0001.jpeg  \n",
      "  inflating: CovidDataset/Train/Covid/extubation-1.jpg  \n",
      "  inflating: CovidDataset/Train/Covid/covid-19-infection-exclusive-gastrointestinal-symptoms-l.png  \n",
      "  inflating: CovidDataset/Val/Normal/NORMAL2-IM-1037-0001.jpeg  \n",
      "  inflating: CovidDataset/Train/Normal/NORMAL2-IM-0956-0001.jpeg  \n",
      "  inflating: CovidDataset/Train/Normal/NORMAL2-IM-0847-0001.jpeg  \n",
      "  inflating: CovidDataset/Train/Normal/IM-0389-0001.jpeg  \n",
      "  inflating: CovidDataset/Train/Normal/IM-0660-0001-0001.jpeg  \n",
      "  inflating: CovidDataset/Train/Covid/16672_1_1.jpg  \n",
      "  inflating: CovidDataset/Train/Normal/IM-0700-0001.jpeg  \n",
      "  inflating: CovidDataset/Train/Normal/NORMAL2-IM-1305-0001.jpeg  \n",
      "  inflating: CovidDataset/Train/Covid/16660_4_1.jpg  \n",
      "  inflating: CovidDataset/Val/Covid/353889E0-A1E8-4F9E-A0B8-F24F36BCFBFB.jpeg  \n",
      "  inflating: CovidDataset/Train/Covid/covid-19-pneumonia-22-day2-pa.png  \n",
      "  inflating: CovidDataset/Train/Normal/IM-0472-0001.jpeg  \n",
      "  inflating: CovidDataset/Train/Normal/NORMAL2-IM-1202-0001.jpeg  \n",
      "  inflating: CovidDataset/Train/Normal/NORMAL2-IM-1188-0001.jpeg  \n",
      "  inflating: CovidDataset/Train/Covid/2C26F453-AF3B-4517-BB9E-802CF2179543.jpeg  \n",
      "  inflating: CovidDataset/Train/Normal/NORMAL2-IM-1290-0001.jpeg  \n",
      "  inflating: CovidDataset/Train/Normal/NORMAL2-IM-1346-0001.jpeg  \n",
      "  inflating: CovidDataset/Train/Normal/NORMAL2-IM-1345-0001-0001.jpeg  \n",
      "  inflating: CovidDataset/Train/Covid/radiol.2020200274.fig3d.png  \n",
      "  inflating: CovidDataset/Train/Normal/IM-0669-0001.jpeg  \n",
      "  inflating: CovidDataset/Train/Normal/IM-0270-0001.jpeg  \n",
      "  inflating: CovidDataset/Train/Covid/covid-19-pneumonia-28.png  \n",
      "  inflating: CovidDataset/Train/Covid/ryct.2020200034.fig2.jpeg  \n",
      "  inflating: CovidDataset/Train/Normal/NORMAL2-IM-1287-0001.jpeg  \n",
      "  inflating: CovidDataset/Train/Covid/1.CXRCTThoraximagesofCOVID-19fromSingapore.pdf-000-fig1a.png  \n",
      "  inflating: CovidDataset/Train/Normal/NORMAL2-IM-0626-0001.jpeg  \n",
      "  inflating: CovidDataset/Train/Normal/IM-0543-0001.jpeg  \n",
      "  inflating: CovidDataset/Val/Normal/NORMAL2-IM-0857-0001.jpeg  \n",
      "  inflating: CovidDataset/Val/Normal/NORMAL2-IM-0905-0001.jpeg  \n",
      "  inflating: CovidDataset/Train/Covid/1-s2.0-S0929664620300449-gr2_lrg-a.jpg  \n",
      "  inflating: CovidDataset/Val/Covid/16654_1_1.png  \n",
      "  inflating: CovidDataset/Train/Covid/kjr-21-e24-g001-l-a.jpg  \n",
      "  inflating: CovidDataset/Train/Normal/IM-0433-0001.jpeg  \n",
      "  inflating: CovidDataset/Train/Covid/covid-19-pneumonia-58-day-10.jpg  \n",
      "  inflating: CovidDataset/Val/Covid/16654_4_1.jpg  \n",
      "  inflating: CovidDataset/Val/Normal/NORMAL2-IM-0790-0001.jpeg  \n",
      "  inflating: CovidDataset/Train/Normal/NORMAL2-IM-1326-0001.jpeg  \n",
      "  inflating: CovidDataset/Train/Normal/IM-0563-0001.jpeg  \n",
      "  inflating: CovidDataset/Train/Covid/ae6c954c0039de4b5edee53865ffee43-e6c8-0.jpg  \n",
      "  inflating: CovidDataset/Val/Covid/23E99E2E-447C-46E5-8EB2-D35D12473C39.png  \n",
      "  inflating: CovidDataset/Train/Covid/gr1_lrg-a.jpg  \n",
      "  inflating: CovidDataset/Train/Normal/IM-0564-0001.jpeg  \n",
      "  inflating: CovidDataset/Train/Normal/NORMAL2-IM-0499-0001.jpeg  \n",
      "  inflating: CovidDataset/Train/Covid/16663_1_1.jpg  \n",
      "  inflating: CovidDataset/Train/Covid/extubation-8.jpg  \n",
      "  inflating: CovidDataset/Train/Covid/paving.jpg  \n",
      "  inflating: CovidDataset/Train/Normal/IM-0529-0001.jpeg  \n",
      "  inflating: CovidDataset/Train/Normal/IM-0425-0001.jpeg  \n",
      "  inflating: CovidDataset/Train/Normal/IM-0439-0001.jpeg  \n",
      "  inflating: CovidDataset/Train/Normal/IM-0491-0001.jpeg  \n",
      "  inflating: CovidDataset/Train/Normal/IM-0337-0001.jpeg  \n",
      "  inflating: CovidDataset/Train/Covid/all14238-fig-0001-m-b.jpg  \n",
      "  inflating: CovidDataset/Train/Covid/covid-19-infection-exclusive-gastrointestinal-symptoms-pa.png  \n",
      "  inflating: CovidDataset/Train/Normal/NORMAL2-IM-1320-0001.jpeg  \n",
      "  inflating: CovidDataset/Train/Covid/1.CXRCTThoraximagesofCOVID-19fromSingapore.pdf-002-fig3b.png  \n",
      "  inflating: CovidDataset/Train/Normal/NORMAL2-IM-0815-0001.jpeg  \n",
      "  inflating: CovidDataset/Train/Covid/nejmoa2001191_f5-PA.jpeg  \n",
      "  inflating: CovidDataset/Train/Normal/NORMAL2-IM-1336-0001.jpeg  \n",
      "  inflating: CovidDataset/Train/Normal/IM-0369-0001.jpeg  \n",
      "  inflating: CovidDataset/Train/Normal/NORMAL2-IM-1300-0001.jpeg  \n",
      "  inflating: CovidDataset/Train/Normal/NORMAL2-IM-1295-0001.jpeg  \n",
      "  inflating: CovidDataset/Train/Normal/NORMAL2-IM-0518-0001.jpeg  \n",
      "  inflating: CovidDataset/Train/Covid/covid-19-pneumonia-34.png  \n",
      "  inflating: CovidDataset/Train/Normal/IM-0385-0001.jpeg  \n",
      "  inflating: CovidDataset/Train/Covid/F63AB6CE-1968-4154-A70F-913AF154F53D.jpeg  \n",
      "  inflating: CovidDataset/Val/Normal/NORMAL2-IM-0842-0001.jpeg  \n",
      "  inflating: CovidDataset/Val/Normal/NORMAL2-IM-0416-0001-0001.jpeg  \n",
      "  inflating: CovidDataset/Val/Normal/NORMAL2-IM-1275-0001.jpeg  \n",
      "  inflating: CovidDataset/Train/Normal/IM-0467-0001.jpeg  \n",
      "  inflating: CovidDataset/Train/Normal/NORMAL2-IM-1344-0001.jpeg  \n",
      "  inflating: CovidDataset/Train/Normal/IM-0301-0001.jpeg  \n",
      "  inflating: CovidDataset/Train/Normal/IM-0421-0001.jpeg  \n",
      "  inflating: CovidDataset/Train/Covid/ryct.2020200034.fig5-day0.jpeg  \n",
      "  inflating: CovidDataset/Train/Covid/covid-19-pneumonia-58-day-3.jpg  \n",
      "  inflating: CovidDataset/Train/Covid/covid-19-pneumonia-mild.JPG  \n",
      "  inflating: CovidDataset/Val/Normal/NORMAL2-IM-0859-0001.jpeg  \n",
      "  inflating: CovidDataset/Val/Normal/NORMAL2-IM-1237-0001.jpeg  \n",
      "  inflating: CovidDataset/Train/Normal/NORMAL2-IM-1103-0001-0001.jpeg  \n",
      "  inflating: CovidDataset/Train/Covid/1-s2.0-S1684118220300682-main.pdf-002-a2.png  \n",
      "  inflating: CovidDataset/Val/Normal/NORMAL2-IM-0535-0001-0002.jpeg  \n",
      "  inflating: CovidDataset/Train/Covid/1.CXRCTThoraximagesofCOVID-19fromSingapore.pdf-003-fig4b.png  \n",
      "  inflating: CovidDataset/Train/Normal/IM-0461-0001.jpeg  \n",
      "  inflating: CovidDataset/Train/Normal/IM-0372-0001.jpeg  \n",
      "  inflating: CovidDataset/Train/Normal/IM-0666-0001-0001.jpeg  \n",
      "  inflating: CovidDataset/Train/Normal/NORMAL2-IM-0840-0001.jpeg  \n",
      "  inflating: CovidDataset/Train/Covid/ryct.2020200034.fig5-day4.jpeg  \n",
      "  inflating: CovidDataset/Train/Normal/NORMAL2-IM-0798-0001.jpeg  \n",
      "  inflating: CovidDataset/Train/Normal/IM-0351-0001.jpeg  \n",
      "  inflating: CovidDataset/Train/Covid/auntminnie-a-2020_01_28_23_51_6665_2020_01_28_Vietnam_coronavirus.jpeg  \n",
      "  inflating: CovidDataset/Train/Covid/1-s2.0-S1684118220300682-main.pdf-002-a1.png  \n",
      "  inflating: CovidDataset/Val/Normal/NORMAL2-IM-1240-0001.jpeg  \n",
      "  inflating: CovidDataset/Train/Covid/93FE0BB1-022D-4F24-9727-987A07975FFB.jpeg  \n",
      "  inflating: CovidDataset/Train/Covid/16660_1_1.jpg  \n",
      "  inflating: CovidDataset/Train/Covid/figure1-5e71be566aa8714a04de3386-98-left.jpeg  \n",
      "  inflating: CovidDataset/Train/Normal/IM-0703-0001.jpeg  \n",
      "  inflating: CovidDataset/Train/Covid/covid-19-pneumonia-7-PA.jpg  \n",
      "  inflating: CovidDataset/Train/Normal/NORMAL2-IM-1277-0001-0002.jpeg  \n",
      "  inflating: CovidDataset/Train/Covid/8FDE8DBA-CFBD-4B4C-B1A4-6F36A93B7E87.jpeg  \n",
      "  inflating: CovidDataset/Train/Normal/IM-0482-0001.jpeg  \n",
      "  inflating: CovidDataset/Train/Normal/IM-0656-0001-0002.jpeg  \n",
      "  inflating: CovidDataset/Train/Covid/16664_1_1.jpg  \n",
      "  inflating: CovidDataset/Train/Normal/IM-0430-0001.jpeg  \n",
      "  inflating: CovidDataset/Train/Covid/covid-19-pneumonia-67.jpeg  \n",
      "  inflating: CovidDataset/Train/Covid/ciaa199.pdf-001-a.png  \n",
      "  inflating: CovidDataset/Train/Normal/IM-0187-0001.jpeg  \n",
      "  inflating: CovidDataset/Val/Normal/NORMAL2-IM-0652-0001.jpeg  \n",
      "  inflating: CovidDataset/Train/Normal/IM-0691-0001.jpeg  \n",
      "  inflating: CovidDataset/Train/Covid/CD50BA96-6982-4C80-AE7B-5F67ACDBFA56.jpeg  \n",
      "  inflating: CovidDataset/Train/Normal/NORMAL2-IM-0976-0001.jpeg  \n",
      "  inflating: CovidDataset/Train/Covid/covid-19-pneumonia-20-pa-on-admission.jpg  \n",
      "  inflating: CovidDataset/Train/Covid/1-s2.0-S0929664620300449-gr2_lrg-c.jpg  \n",
      "  inflating: CovidDataset/Train/Covid/fff49165-b22d-4bb4-b9d1-d5d62c52436c.annot.original.png  \n",
      "  inflating: CovidDataset/Train/Covid/1.CXRCTThoraximagesofCOVID-19fromSingapore.pdf-002-fig3a.png  \n",
      "  inflating: CovidDataset/Val/Normal/NORMAL2-IM-0395-0001.jpeg  \n",
      "  inflating: CovidDataset/Train/Normal/IM-0182-0001.jpeg  \n",
      "  inflating: CovidDataset/Train/Covid/covid-19-pneumonia-evolution-over-a-week-1-day0-PA.jpg  \n",
      "  inflating: CovidDataset/Val/Normal/NORMAL2-IM-0914-0001.jpeg  \n",
      "  inflating: CovidDataset/Train/Covid/covid-19-pneumonia-30-PA.jpg  \n",
      "  inflating: CovidDataset/Train/Covid/nejmc2001573_f1a.jpeg  \n",
      "  inflating: CovidDataset/Train/Covid/kjr-21-e25-g001-l-a.jpg  \n",
      "  inflating: CovidDataset/Val/Normal/NORMAL2-IM-0873-0001.jpeg  \n",
      "  inflating: CovidDataset/Train/Normal/NORMAL2-IM-0501-0001.jpeg  \n",
      "  inflating: CovidDataset/Train/Normal/IM-0667-0001.jpeg  \n",
      "  inflating: CovidDataset/Train/Normal/IM-0551-0001-0002.jpeg  \n",
      "  inflating: CovidDataset/Train/Normal/IM-0176-0001.jpeg  \n",
      "  inflating: CovidDataset/Train/Covid/lancet-case2b.jpg  \n",
      "  inflating: CovidDataset/Train/Normal/IM-0713-0001.jpeg  \n",
      "  inflating: CovidDataset/Train/Covid/all14238-fig-0001-m-c.jpg  \n",
      "  inflating: CovidDataset/Val/Covid/covid-19-pneumonia-14-PA.png  \n",
      "  inflating: CovidDataset/Val/Normal/NORMAL2-IM-0851-0001-0001.jpeg  \n",
      "  inflating: CovidDataset/Train/Normal/NORMAL2-IM-1154-0001-0002.jpeg  \n",
      "  inflating: CovidDataset/Train/Normal/IM-0619-0001.jpeg  \n",
      "  inflating: CovidDataset/Val/Normal/NORMAL2-IM-0441-0001.jpeg  \n",
      "  inflating: CovidDataset/Val/Normal/NORMAL2-IM-0765-0001.jpeg  \n",
      "  inflating: CovidDataset/Train/Normal/IM-0172-0001.jpeg  \n",
      "  inflating: CovidDataset/Train/Normal/IM-0551-0001-0001.jpeg  \n",
      "  inflating: CovidDataset/Train/Covid/gr1_lrg-b.jpg  \n",
      "  inflating: CovidDataset/Train/Covid/1-s2.0-S0929664620300449-gr2_lrg-b.jpg  \n",
      "  inflating: CovidDataset/Train/Normal/IM-0514-0001.jpeg  \n",
      "  inflating: CovidDataset/Train/Covid/covid-19-pneumonia-20.jpg  \n",
      "  inflating: CovidDataset/Train/Normal/IM-0544-0001.jpeg  \n",
      "  inflating: CovidDataset/Val/Normal/NORMAL2-IM-1022-0001.jpeg  \n",
      "  inflating: CovidDataset/Train/Normal/NORMAL2-IM-0935-0001.jpeg  \n",
      "  inflating: CovidDataset/Train/Covid/covid-19-pneumonia-22-day1-pa.png  \n",
      "  inflating: CovidDataset/Train/Normal/NORMAL2-IM-1288-0001.jpeg  \n",
      "  inflating: CovidDataset/Train/Covid/16669_1_1.jpeg  \n",
      "  inflating: CovidDataset/Train/Covid/nejmoa2001191_f4.jpeg  \n",
      "  inflating: CovidDataset/Val/Normal/NORMAL2-IM-0462-0001.jpeg  \n",
      "  inflating: CovidDataset/Val/Normal/NORMAL2-IM-0894-0001.jpeg  \n",
      "  inflating: CovidDataset/Train/Covid/nejmc2001573_f1b.jpeg  \n",
      "  inflating: CovidDataset/Train/Normal/NORMAL2-IM-1094-0001-0001.jpeg  \n",
      "  inflating: CovidDataset/Train/Normal/IM-0543-0001-0002.jpeg  \n",
      "  inflating: CovidDataset/Train/Covid/16669_3_1.jpeg  \n",
      "  inflating: CovidDataset/Train/Covid/covid-19-pneumonia-58-day-7.jpg  \n",
      "  inflating: CovidDataset/Train/Normal/IM-0536-0001.jpeg  \n",
      "  inflating: CovidDataset/Train/Normal/NORMAL2-IM-1214-0001.jpeg  \n",
      "  inflating: CovidDataset/Train/Covid/AR-2.jpg  \n",
      "  inflating: CovidDataset/Train/Covid/9fdd3c3032296fd04d2cad5d9070d4_jumbo.jpeg  \n",
      "  inflating: CovidDataset/Train/Covid/1B734A89-A1BF-49A8-A1D3-66FAFA4FAC5D.jpeg  \n",
      "  inflating: CovidDataset/Train/Normal/IM-0156-0001.jpeg  \n",
      "  inflating: CovidDataset/Train/Normal/NORMAL2-IM-1111-0001.jpeg  \n",
      "  inflating: CovidDataset/Train/Covid/FE9F9A5D-2830-46F9-851B-1FF4534959BE.jpeg  \n",
      "  inflating: CovidDataset/Train/Normal/IM-0429-0001.jpeg  \n",
      "  inflating: CovidDataset/Train/Covid/covid-19-pneumonia-44-day-0.jpeg  \n",
      "  inflating: CovidDataset/Val/Normal/NORMAL2-IM-0869-0001.jpeg  \n",
      "  inflating: CovidDataset/Train/Covid/figure1-5e75d0940b71e1b702629659-98-right.jpeg  \n",
      "  inflating: CovidDataset/Train/Covid/03BF7561-A9BA-4C3C-B8A0-D3E585F73F3C.jpeg  \n",
      "  inflating: CovidDataset/Train/Covid/ciaa199.pdf-001-c.png  \n",
      "  inflating: CovidDataset/Train/Covid/extubation-4.jpg  \n",
      "  inflating: CovidDataset/Train/Normal/IM-0556-0001.jpeg  \n",
      "  inflating: CovidDataset/Train/Covid/1.CXRCTThoraximagesofCOVID-19fromSingapore.pdf-003-fig4a.png  \n",
      "  inflating: CovidDataset/Train/Covid/covid-19-pneumonia-19.jpg  \n",
      "  inflating: CovidDataset/Train/Normal/IM-0392-0001.jpeg  \n",
      "  inflating: CovidDataset/Train/Normal/IM-0530-0001.jpeg  \n",
      "  inflating: CovidDataset/Train/Normal/IM-0261-0001.jpeg  \n",
      "  inflating: CovidDataset/Train/Covid/1312A392-67A3-4EBF-9319-810CF6DA5EF6.jpeg  \n",
      "  inflating: CovidDataset/Train/Normal/IM-0525-0001.jpeg  \n",
      "  inflating: CovidDataset/Train/Covid/lancet-case2a.jpg  \n",
      "  inflating: CovidDataset/Train/Covid/ciaa199.pdf-001-b.png  \n",
      "  inflating: CovidDataset/Train/Normal/NORMAL2-IM-0941-0001.jpeg  \n",
      "  inflating: CovidDataset/Train/Normal/IM-0488-0001.jpeg  \n",
      "  inflating: CovidDataset/Train/Covid/nejmoa2001191_f3-PA.jpeg  \n",
      "  inflating: CovidDataset/Train/Normal/IM-0447-0001.jpeg  \n",
      "  inflating: CovidDataset/Train/Covid/2966893D-5DDF-4B68-9E2B-4979D5956C8E.jpeg  \n",
      "  inflating: CovidDataset/Train/Covid/ryct.2020200028.fig1a.jpeg  \n",
      "  inflating: CovidDataset/Train/Normal/IM-0688-0001.jpeg  \n",
      "  inflating: CovidDataset/Train/Covid/16660_3_1.jpg  \n",
      "  inflating: CovidDataset/Val/Normal/NORMAL2-IM-1045-0001.jpeg  \n",
      "  inflating: CovidDataset/Train/Normal/NORMAL2-IM-0978-0001.jpeg  \n",
      "  inflating: CovidDataset/Train/Covid/2-chest-filmc.jpg  \n",
      "  inflating: CovidDataset/Val/Normal/NORMAL2-IM-0678-0001.jpeg  \n",
      "  inflating: CovidDataset/Train/Normal/NORMAL2-IM-0573-0001.jpeg  \n",
      "  inflating: CovidDataset/Train/Normal/IM-0365-0001.jpeg  \n",
      "  inflating: CovidDataset/Train/Normal/IM-0300-0001.jpeg  \n",
      "  inflating: CovidDataset/Train/Normal/IM-0242-0001.jpeg  \n",
      "  inflating: CovidDataset/Train/Covid/F4341CE7-73C9-45C6-99C8-8567A5484B63.jpeg  \n",
      "  inflating: CovidDataset/Train/Normal/NORMAL2-IM-1019-0001.jpeg  \n",
      "  inflating: CovidDataset/Train/Covid/01E392EE-69F9-4E33-BFCE-E5C968654078.jpeg  \n",
      "  inflating: CovidDataset/Train/Normal/IM-0648-0001.jpeg  \n",
      "  inflating: CovidDataset/Val/Normal/NORMAL2-IM-0408-0001.jpeg  \n",
      "  inflating: CovidDataset/Train/Covid/yxppt-2020-02-19_00-51-27_287214-day8.jpg  \n",
      "  inflating: CovidDataset/Train/Normal/IM-0635-0001.jpeg  \n",
      "  inflating: CovidDataset/Train/Covid/radiol.2020200490.fig3.jpeg  \n",
      "  inflating: CovidDataset/Val/Normal/NORMAL2-IM-1060-0001.jpeg  \n"
     ]
    }
   ],
   "source": [
    "! wget http://cb.lk/covid_19\n",
    "! unzip covid_19"
   ]
  },
  {
   "cell_type": "code",
   "execution_count": 3,
   "metadata": {
    "colab": {
     "base_uri": "https://localhost:8080/"
    },
    "executionInfo": {
     "elapsed": 690,
     "status": "ok",
     "timestamp": 1663232251951,
     "user": {
      "displayName": "Mohamed Abdelaziz",
      "userId": "01616551640765090886"
     },
     "user_tz": -120
    },
    "id": "L0LLbgREC3I2",
    "outputId": "af241b7a-0a86-4adf-cd29-e60a9428a92a"
   },
   "outputs": [
    {
     "name": "stdout",
     "output_type": "stream",
     "text": [
      "Found 224 images belonging to 2 classes.\n",
      "Found 60 images belonging to 2 classes.\n"
     ]
    }
   ],
   "source": [
    "from keras.preprocessing.image import ImageDataGenerator\n",
    "\n",
    "train_datagen = ImageDataGenerator(rescale=1./255,)\n",
    "test_datagen = ImageDataGenerator(rescale=1./255,)\n",
    "\n",
    "train_set = train_datagen.flow_from_directory('/content/CovidDataset/Train', \n",
    "                                              target_size=(224,244), \n",
    "                                              batch_size=32, \n",
    "                                              class_mode='binary', \n",
    "                                              shuffle=False)\n",
    "\n",
    "test_set = test_datagen.flow_from_directory('/content/CovidDataset/Val', \n",
    "                                              target_size=(224,244), \n",
    "                                              batch_size=32, \n",
    "                                              class_mode='binary', \n",
    "                                              shuffle=False)"
   ]
  },
  {
   "cell_type": "code",
   "execution_count": 4,
   "metadata": {
    "colab": {
     "base_uri": "https://localhost:8080/"
    },
    "executionInfo": {
     "elapsed": 6,
     "status": "ok",
     "timestamp": 1663232251951,
     "user": {
      "displayName": "Mohamed Abdelaziz",
      "userId": "01616551640765090886"
     },
     "user_tz": -120
    },
    "id": "ulcafrMvGvBp",
    "outputId": "efa4c27f-d876-4bfd-e298-6629180eaf39"
   },
   "outputs": [
    {
     "data": {
      "text/plain": [
       "array([0, 0, 0, 0, 0, 0, 0, 0, 0, 0, 0, 0, 0, 0, 0, 0, 0, 0, 0, 0, 0, 0,\n",
       "       0, 0, 0, 0, 0, 0, 0, 0, 1, 1, 1, 1, 1, 1, 1, 1, 1, 1, 1, 1, 1, 1,\n",
       "       1, 1, 1, 1, 1, 1, 1, 1, 1, 1, 1, 1, 1, 1, 1, 1], dtype=int32)"
      ]
     },
     "execution_count": 4,
     "metadata": {},
     "output_type": "execute_result"
    }
   ],
   "source": [
    "test_set.labels"
   ]
  },
  {
   "cell_type": "code",
   "execution_count": 5,
   "metadata": {
    "colab": {
     "base_uri": "https://localhost:8080/"
    },
    "executionInfo": {
     "elapsed": 6,
     "status": "ok",
     "timestamp": 1663232251952,
     "user": {
      "displayName": "Mohamed Abdelaziz",
      "userId": "01616551640765090886"
     },
     "user_tz": -120
    },
    "id": "00XFVQ3gJckx",
    "outputId": "cd659822-9462-4e77-fe3d-1424eae6759f"
   },
   "outputs": [
    {
     "data": {
      "text/plain": [
       "['Covid/16654_1_1.png',\n",
       " 'Covid/16654_2_1.jpg',\n",
       " 'Covid/16654_4_1.jpg',\n",
       " 'Covid/23E99E2E-447C-46E5-8EB2-D35D12473C39.png',\n",
       " 'Covid/31BA3780-2323-493F-8AED-62081B9C383B.jpeg',\n",
       " 'Covid/353889E0-A1E8-4F9E-A0B8-F24F36BCFBFB.jpeg',\n",
       " 'Covid/4-x-day1.jpg',\n",
       " 'Covid/41591_2020_819_Fig1_HTML.webp-day10.png',\n",
       " 'Covid/41591_2020_819_Fig1_HTML.webp-day5.png',\n",
       " 'Covid/4e43e48d52c9e2d4c6c1fb9bc1544f_jumbo.jpeg',\n",
       " 'Covid/53EC07C9-5CC6-4BE4-9B6F-D7B0D72AAA7E.jpeg',\n",
       " 'Covid/58cb9263f16e94305c730685358e4e_jumbo.jpeg',\n",
       " 'Covid/6C94A287-C059-46A0-8600-AFB95F4727B7.jpeg',\n",
       " 'Covid/6CB4EFC6-68FA-4CD5-940C-BEFA8DAFE9A7.jpeg',\n",
       " 'Covid/6b3bdbc31f65230b8cdcc3cef5f8ba8a-40ac-0.jpg',\n",
       " 'Covid/6b44464d-73a7-4cf3-bbb6-ffe7168300e3.annot.original.jpeg',\n",
       " 'Covid/7AF6C1AF-D249-4BD2-8C26-449304105D03.jpeg',\n",
       " 'Covid/7C69C012-7479-493F-8722-ABC29C60A2DD.jpeg',\n",
       " 'Covid/85E52EB3-56E9-4D67-82DA-DEA247C82886.jpeg',\n",
       " 'Covid/88de9d8c39e946abd495b37cd07d89e5-2ee6-0.jpg',\n",
       " 'Covid/88de9d8c39e946abd495b37cd07d89e5-6531-0.jpg',\n",
       " 'Covid/B2D20576-00B7-4519-A415-72DE29C90C34.jpeg',\n",
       " 'Covid/auntminnie-c-2020_01_28_23_51_6665_2020_01_28_Vietnam_coronavirus.jpeg',\n",
       " 'Covid/auntminnie-d-2020_01_28_23_51_6665_2020_01_28_Vietnam_coronavirus.jpeg',\n",
       " 'Covid/covid-19-pneumonia-12.jpg',\n",
       " 'Covid/covid-19-pneumonia-14-PA.png',\n",
       " 'Covid/covid-19-pneumonia-35-1.jpg',\n",
       " 'Covid/covid-19-pneumonia-35-2.jpg',\n",
       " 'Covid/covid-19-pneumonia-53.jpg',\n",
       " 'Covid/covid-19-pneumonia-8.jpg',\n",
       " 'Normal/NORMAL2-IM-0395-0001.jpeg',\n",
       " 'Normal/NORMAL2-IM-0408-0001.jpeg',\n",
       " 'Normal/NORMAL2-IM-0416-0001-0001.jpeg',\n",
       " 'Normal/NORMAL2-IM-0441-0001.jpeg',\n",
       " 'Normal/NORMAL2-IM-0462-0001.jpeg',\n",
       " 'Normal/NORMAL2-IM-0535-0001-0002.jpeg',\n",
       " 'Normal/NORMAL2-IM-0652-0001.jpeg',\n",
       " 'Normal/NORMAL2-IM-0678-0001.jpeg',\n",
       " 'Normal/NORMAL2-IM-0730-0001.jpeg',\n",
       " 'Normal/NORMAL2-IM-0765-0001.jpeg',\n",
       " 'Normal/NORMAL2-IM-0790-0001.jpeg',\n",
       " 'Normal/NORMAL2-IM-0842-0001.jpeg',\n",
       " 'Normal/NORMAL2-IM-0851-0001-0001.jpeg',\n",
       " 'Normal/NORMAL2-IM-0851-0001.jpeg',\n",
       " 'Normal/NORMAL2-IM-0857-0001.jpeg',\n",
       " 'Normal/NORMAL2-IM-0859-0001.jpeg',\n",
       " 'Normal/NORMAL2-IM-0869-0001.jpeg',\n",
       " 'Normal/NORMAL2-IM-0873-0001.jpeg',\n",
       " 'Normal/NORMAL2-IM-0894-0001.jpeg',\n",
       " 'Normal/NORMAL2-IM-0905-0001.jpeg',\n",
       " 'Normal/NORMAL2-IM-0914-0001.jpeg',\n",
       " 'Normal/NORMAL2-IM-1022-0001.jpeg',\n",
       " 'Normal/NORMAL2-IM-1037-0001.jpeg',\n",
       " 'Normal/NORMAL2-IM-1045-0001.jpeg',\n",
       " 'Normal/NORMAL2-IM-1060-0001.jpeg',\n",
       " 'Normal/NORMAL2-IM-1191-0001.jpeg',\n",
       " 'Normal/NORMAL2-IM-1228-0001.jpeg',\n",
       " 'Normal/NORMAL2-IM-1237-0001.jpeg',\n",
       " 'Normal/NORMAL2-IM-1240-0001.jpeg',\n",
       " 'Normal/NORMAL2-IM-1275-0001.jpeg']"
      ]
     },
     "execution_count": 5,
     "metadata": {},
     "output_type": "execute_result"
    }
   ],
   "source": [
    "test_set.filenames"
   ]
  },
  {
   "cell_type": "code",
   "execution_count": 6,
   "metadata": {
    "colab": {
     "base_uri": "https://localhost:8080/"
    },
    "executionInfo": {
     "elapsed": 5,
     "status": "ok",
     "timestamp": 1663232251952,
     "user": {
      "displayName": "Mohamed Abdelaziz",
      "userId": "01616551640765090886"
     },
     "user_tz": -120
    },
    "id": "mqIlx692JsVw",
    "outputId": "7a64ca7d-daac-434b-b4e5-39f95454e017"
   },
   "outputs": [
    {
     "data": {
      "text/plain": [
       "{'Covid': 0, 'Normal': 1}"
      ]
     },
     "execution_count": 6,
     "metadata": {},
     "output_type": "execute_result"
    }
   ],
   "source": [
    "train_set.class_indices"
   ]
  },
  {
   "cell_type": "code",
   "execution_count": 7,
   "metadata": {
    "colab": {
     "base_uri": "https://localhost:8080/"
    },
    "executionInfo": {
     "elapsed": 3,
     "status": "ok",
     "timestamp": 1663232251952,
     "user": {
      "displayName": "Mohamed Abdelaziz",
      "userId": "01616551640765090886"
     },
     "user_tz": -120
    },
    "id": "PEJ2LoXcKnEo",
    "outputId": "3c72654a-fbd6-40a9-c429-cf35b943021e"
   },
   "outputs": [
    {
     "data": {
      "text/plain": [
       "(array([[[[0.3019608 , 0.3019608 , 0.3019608 ],\n",
       "          [0.30980393, 0.30980393, 0.30980393],\n",
       "          [0.3254902 , 0.3254902 , 0.3254902 ],\n",
       "          ...,\n",
       "          [0.29411766, 0.29411766, 0.29411766],\n",
       "          [0.30980393, 0.30980393, 0.30980393],\n",
       "          [0.3647059 , 0.3647059 , 0.3647059 ]],\n",
       " \n",
       "         [[0.29411766, 0.29411766, 0.29411766],\n",
       "          [0.30588236, 0.30588236, 0.30588236],\n",
       "          [0.3137255 , 0.3137255 , 0.3137255 ],\n",
       "          ...,\n",
       "          [0.31764707, 0.31764707, 0.31764707],\n",
       "          [0.30588236, 0.30588236, 0.30588236],\n",
       "          [0.427451  , 0.427451  , 0.427451  ]],\n",
       " \n",
       "         [[0.2784314 , 0.2784314 , 0.2784314 ],\n",
       "          [0.29803923, 0.29803923, 0.29803923],\n",
       "          [0.3137255 , 0.3137255 , 0.3137255 ],\n",
       "          ...,\n",
       "          [0.31764707, 0.31764707, 0.31764707],\n",
       "          [0.38823533, 0.38823533, 0.38823533],\n",
       "          [0.5058824 , 0.5058824 , 0.5058824 ]],\n",
       " \n",
       "         ...,\n",
       " \n",
       "         [[0.23137257, 0.23137257, 0.23137257],\n",
       "          [0.3372549 , 0.3372549 , 0.3372549 ],\n",
       "          [0.3372549 , 0.3372549 , 0.3372549 ],\n",
       "          ...,\n",
       "          [0.        , 0.        , 0.        ],\n",
       "          [0.        , 0.        , 0.        ],\n",
       "          [0.        , 0.        , 0.        ]],\n",
       " \n",
       "         [[0.23137257, 0.23137257, 0.23137257],\n",
       "          [0.3254902 , 0.3254902 , 0.3254902 ],\n",
       "          [0.32941177, 0.32941177, 0.32941177],\n",
       "          ...,\n",
       "          [0.        , 0.        , 0.        ],\n",
       "          [0.        , 0.        , 0.        ],\n",
       "          [0.        , 0.        , 0.        ]],\n",
       " \n",
       "         [[0.21176472, 0.21176472, 0.21176472],\n",
       "          [0.31764707, 0.31764707, 0.31764707],\n",
       "          [0.34117648, 0.34117648, 0.34117648],\n",
       "          ...,\n",
       "          [0.        , 0.        , 0.        ],\n",
       "          [0.        , 0.        , 0.        ],\n",
       "          [0.        , 0.        , 0.        ]]],\n",
       " \n",
       " \n",
       "        [[[0.        , 0.        , 0.        ],\n",
       "          [0.        , 0.        , 0.        ],\n",
       "          [0.        , 0.        , 0.        ],\n",
       "          ...,\n",
       "          [0.        , 0.        , 0.        ],\n",
       "          [0.        , 0.        , 0.        ],\n",
       "          [0.        , 0.        , 0.        ]],\n",
       " \n",
       "         [[0.05490196, 0.05490196, 0.05490196],\n",
       "          [0.0627451 , 0.0627451 , 0.0627451 ],\n",
       "          [0.0627451 , 0.0627451 , 0.0627451 ],\n",
       "          ...,\n",
       "          [0.        , 0.        , 0.        ],\n",
       "          [0.        , 0.        , 0.        ],\n",
       "          [0.        , 0.        , 0.        ]],\n",
       " \n",
       "         [[0.05882353, 0.05882353, 0.05882353],\n",
       "          [0.05490196, 0.05490196, 0.05490196],\n",
       "          [0.05882353, 0.05882353, 0.05882353],\n",
       "          ...,\n",
       "          [0.        , 0.        , 0.        ],\n",
       "          [0.        , 0.        , 0.        ],\n",
       "          [0.        , 0.        , 0.        ]],\n",
       " \n",
       "         ...,\n",
       " \n",
       "         [[0.        , 0.        , 0.        ],\n",
       "          [0.        , 0.        , 0.        ],\n",
       "          [0.        , 0.        , 0.        ],\n",
       "          ...,\n",
       "          [0.        , 0.        , 0.        ],\n",
       "          [0.        , 0.        , 0.        ],\n",
       "          [0.        , 0.        , 0.        ]],\n",
       " \n",
       "         [[0.        , 0.        , 0.        ],\n",
       "          [0.        , 0.        , 0.        ],\n",
       "          [0.        , 0.        , 0.        ],\n",
       "          ...,\n",
       "          [0.        , 0.        , 0.        ],\n",
       "          [0.        , 0.        , 0.        ],\n",
       "          [0.        , 0.        , 0.        ]],\n",
       " \n",
       "         [[0.        , 0.        , 0.        ],\n",
       "          [0.        , 0.        , 0.        ],\n",
       "          [0.        , 0.        , 0.        ],\n",
       "          ...,\n",
       "          [0.        , 0.        , 0.        ],\n",
       "          [0.        , 0.        , 0.        ],\n",
       "          [0.        , 0.        , 0.        ]]],\n",
       " \n",
       " \n",
       "        [[[0.15686275, 0.15686275, 0.15686275],\n",
       "          [0.20784315, 0.20784315, 0.20784315],\n",
       "          [0.23529413, 0.23529413, 0.23529413],\n",
       "          ...,\n",
       "          [0.30980393, 0.30980393, 0.30980393],\n",
       "          [0.3137255 , 0.3137255 , 0.3137255 ],\n",
       "          [0.3137255 , 0.3137255 , 0.3137255 ]],\n",
       " \n",
       "         [[0.16078432, 0.16078432, 0.16078432],\n",
       "          [0.19607845, 0.19607845, 0.19607845],\n",
       "          [0.24313727, 0.24313727, 0.24313727],\n",
       "          ...,\n",
       "          [0.3019608 , 0.3019608 , 0.3019608 ],\n",
       "          [0.3137255 , 0.3137255 , 0.3137255 ],\n",
       "          [0.31764707, 0.31764707, 0.31764707]],\n",
       " \n",
       "         [[0.15686275, 0.15686275, 0.15686275],\n",
       "          [0.20000002, 0.20000002, 0.20000002],\n",
       "          [0.227451  , 0.227451  , 0.227451  ],\n",
       "          ...,\n",
       "          [0.31764707, 0.31764707, 0.31764707],\n",
       "          [0.3019608 , 0.3019608 , 0.3019608 ],\n",
       "          [0.31764707, 0.31764707, 0.31764707]],\n",
       " \n",
       "         ...,\n",
       " \n",
       "         [[0.        , 0.        , 0.        ],\n",
       "          [0.        , 0.        , 0.        ],\n",
       "          [0.        , 0.        , 0.        ],\n",
       "          ...,\n",
       "          [0.        , 0.        , 0.        ],\n",
       "          [0.        , 0.        , 0.        ],\n",
       "          [0.        , 0.        , 0.        ]],\n",
       " \n",
       "         [[0.        , 0.        , 0.        ],\n",
       "          [0.        , 0.        , 0.        ],\n",
       "          [0.        , 0.        , 0.        ],\n",
       "          ...,\n",
       "          [0.        , 0.        , 0.        ],\n",
       "          [0.        , 0.        , 0.        ],\n",
       "          [0.        , 0.        , 0.        ]],\n",
       " \n",
       "         [[0.        , 0.        , 0.        ],\n",
       "          [0.        , 0.        , 0.        ],\n",
       "          [0.        , 0.        , 0.        ],\n",
       "          ...,\n",
       "          [0.        , 0.        , 0.        ],\n",
       "          [0.        , 0.        , 0.        ],\n",
       "          [0.        , 0.        , 0.        ]]],\n",
       " \n",
       " \n",
       "        ...,\n",
       " \n",
       " \n",
       "        [[[0.        , 0.        , 0.        ],\n",
       "          [0.        , 0.        , 0.        ],\n",
       "          [0.        , 0.        , 0.        ],\n",
       "          ...,\n",
       "          [0.        , 0.        , 0.        ],\n",
       "          [0.        , 0.        , 0.        ],\n",
       "          [0.        , 0.        , 0.        ]],\n",
       " \n",
       "         [[0.        , 0.        , 0.        ],\n",
       "          [0.        , 0.        , 0.        ],\n",
       "          [0.        , 0.        , 0.        ],\n",
       "          ...,\n",
       "          [0.        , 0.        , 0.        ],\n",
       "          [0.        , 0.        , 0.        ],\n",
       "          [0.        , 0.        , 0.        ]],\n",
       " \n",
       "         [[0.        , 0.        , 0.        ],\n",
       "          [0.        , 0.        , 0.        ],\n",
       "          [0.        , 0.        , 0.        ],\n",
       "          ...,\n",
       "          [0.        , 0.        , 0.        ],\n",
       "          [0.        , 0.        , 0.        ],\n",
       "          [0.        , 0.        , 0.        ]],\n",
       " \n",
       "         ...,\n",
       " \n",
       "         [[0.        , 0.        , 0.        ],\n",
       "          [0.        , 0.        , 0.        ],\n",
       "          [0.        , 0.        , 0.        ],\n",
       "          ...,\n",
       "          [0.        , 0.        , 0.        ],\n",
       "          [0.        , 0.        , 0.        ],\n",
       "          [0.        , 0.        , 0.        ]],\n",
       " \n",
       "         [[0.        , 0.        , 0.        ],\n",
       "          [0.        , 0.        , 0.        ],\n",
       "          [0.        , 0.        , 0.        ],\n",
       "          ...,\n",
       "          [0.        , 0.        , 0.        ],\n",
       "          [0.        , 0.        , 0.        ],\n",
       "          [0.        , 0.        , 0.        ]],\n",
       " \n",
       "         [[0.        , 0.        , 0.        ],\n",
       "          [0.        , 0.        , 0.        ],\n",
       "          [0.        , 0.        , 0.        ],\n",
       "          ...,\n",
       "          [0.        , 0.        , 0.        ],\n",
       "          [0.        , 0.        , 0.        ],\n",
       "          [0.        , 0.        , 0.        ]]],\n",
       " \n",
       " \n",
       "        [[[0.        , 0.        , 0.        ],\n",
       "          [0.        , 0.        , 0.        ],\n",
       "          [0.        , 0.        , 0.        ],\n",
       "          ...,\n",
       "          [0.32156864, 0.32156864, 0.32156864],\n",
       "          [0.29803923, 0.29803923, 0.29803923],\n",
       "          [0.3254902 , 0.3254902 , 0.3254902 ]],\n",
       " \n",
       "         [[0.        , 0.        , 0.        ],\n",
       "          [0.        , 0.        , 0.        ],\n",
       "          [0.        , 0.        , 0.        ],\n",
       "          ...,\n",
       "          [0.3254902 , 0.3254902 , 0.3254902 ],\n",
       "          [0.32941177, 0.32941177, 0.32941177],\n",
       "          [0.32941177, 0.32941177, 0.32941177]],\n",
       " \n",
       "         [[0.        , 0.        , 0.        ],\n",
       "          [0.        , 0.        , 0.        ],\n",
       "          [0.        , 0.        , 0.        ],\n",
       "          ...,\n",
       "          [0.3019608 , 0.3019608 , 0.3019608 ],\n",
       "          [0.29803923, 0.29803923, 0.29803923],\n",
       "          [0.34509805, 0.34509805, 0.34509805]],\n",
       " \n",
       "         ...,\n",
       " \n",
       "         [[0.        , 0.        , 0.        ],\n",
       "          [0.        , 0.        , 0.        ],\n",
       "          [0.        , 0.        , 0.        ],\n",
       "          ...,\n",
       "          [0.        , 0.        , 0.        ],\n",
       "          [0.        , 0.        , 0.        ],\n",
       "          [0.        , 0.        , 0.        ]],\n",
       " \n",
       "         [[0.        , 0.        , 0.        ],\n",
       "          [0.        , 0.        , 0.        ],\n",
       "          [0.        , 0.        , 0.        ],\n",
       "          ...,\n",
       "          [0.        , 0.        , 0.        ],\n",
       "          [0.        , 0.        , 0.        ],\n",
       "          [0.        , 0.        , 0.        ]],\n",
       " \n",
       "         [[0.        , 0.        , 0.        ],\n",
       "          [0.        , 0.        , 0.        ],\n",
       "          [0.        , 0.        , 0.        ],\n",
       "          ...,\n",
       "          [0.        , 0.        , 0.        ],\n",
       "          [0.        , 0.        , 0.        ],\n",
       "          [0.        , 0.        , 0.        ]]],\n",
       " \n",
       " \n",
       "        [[[0.17254902, 0.17254902, 0.17254902],\n",
       "          [0.16470589, 0.16470589, 0.16470589],\n",
       "          [0.15686275, 0.15686275, 0.15686275],\n",
       "          ...,\n",
       "          [0.07843138, 0.07843138, 0.07843138],\n",
       "          [0.08627451, 0.08627451, 0.08627451],\n",
       "          [0.08235294, 0.08235294, 0.08235294]],\n",
       " \n",
       "         [[0.15686275, 0.15686275, 0.15686275],\n",
       "          [0.14117648, 0.14117648, 0.14117648],\n",
       "          [0.11764707, 0.11764707, 0.11764707],\n",
       "          ...,\n",
       "          [0.08627451, 0.08627451, 0.08627451],\n",
       "          [0.08627451, 0.08627451, 0.08627451],\n",
       "          [0.08627451, 0.08627451, 0.08627451]],\n",
       " \n",
       "         [[0.12156864, 0.12156864, 0.12156864],\n",
       "          [0.10980393, 0.10980393, 0.10980393],\n",
       "          [0.09803922, 0.09803922, 0.09803922],\n",
       "          ...,\n",
       "          [0.07843138, 0.07843138, 0.07843138],\n",
       "          [0.08235294, 0.08235294, 0.08235294],\n",
       "          [0.09411766, 0.09411766, 0.09411766]],\n",
       " \n",
       "         ...,\n",
       " \n",
       "         [[0.06666667, 0.06666667, 0.06666667],\n",
       "          [0.04705883, 0.04705883, 0.04705883],\n",
       "          [0.0509804 , 0.0509804 , 0.0509804 ],\n",
       "          ...,\n",
       "          [0.0627451 , 0.0627451 , 0.0627451 ],\n",
       "          [0.05882353, 0.05882353, 0.05882353],\n",
       "          [0.07058824, 0.07058824, 0.07058824]],\n",
       " \n",
       "         [[0.0627451 , 0.0627451 , 0.0627451 ],\n",
       "          [0.05490196, 0.05490196, 0.05490196],\n",
       "          [0.0509804 , 0.0509804 , 0.0509804 ],\n",
       "          ...,\n",
       "          [0.07058824, 0.07058824, 0.07058824],\n",
       "          [0.05882353, 0.05882353, 0.05882353],\n",
       "          [0.0627451 , 0.0627451 , 0.0627451 ]],\n",
       " \n",
       "         [[0.05882353, 0.05882353, 0.05882353],\n",
       "          [0.05490196, 0.05490196, 0.05490196],\n",
       "          [0.04705883, 0.04705883, 0.04705883],\n",
       "          ...,\n",
       "          [0.07450981, 0.07450981, 0.07450981],\n",
       "          [0.05882353, 0.05882353, 0.05882353],\n",
       "          [0.05490196, 0.05490196, 0.05490196]]]], dtype=float32),\n",
       " array([1., 1., 1., 1., 1., 1., 1., 1., 1., 1., 1., 1., 1., 1., 1., 1., 1.,\n",
       "        1., 1., 1., 1., 1., 1., 1., 1., 1., 1., 1.], dtype=float32))"
      ]
     },
     "execution_count": 7,
     "metadata": {},
     "output_type": "execute_result"
    }
   ],
   "source": [
    "test_set[1]"
   ]
  },
  {
   "cell_type": "code",
   "execution_count": 8,
   "metadata": {
    "colab": {
     "base_uri": "https://localhost:8080/",
     "height": 286
    },
    "executionInfo": {
     "elapsed": 2721,
     "status": "ok",
     "timestamp": 1663232254671,
     "user": {
      "displayName": "Mohamed Abdelaziz",
      "userId": "01616551640765090886"
     },
     "user_tz": -120
    },
    "id": "TjgOZ5WOMK5I",
    "outputId": "b9e459d4-16f2-4314-dd3f-cc32e1b06616"
   },
   "outputs": [
    {
     "data": {
      "text/plain": [
       "(224, 244, 3)"
      ]
     },
     "execution_count": 8,
     "metadata": {},
     "output_type": "execute_result"
    },
    {
     "data": {
      "image/png": "[encoded data removed]",
      "text/plain": [
       "<Figure size 432x288 with 1 Axes>"
      ]
     },
     "metadata": {
      "needs_background": "light"
     },
     "output_type": "display_data"
    }
   ],
   "source": [
    "plt.imshow(test_set[0][0][0])\n",
    "test_set[0][0][0].shape"
   ]
  },
  {
   "cell_type": "code",
   "execution_count": 9,
   "metadata": {
    "colab": {
     "base_uri": "https://localhost:8080/"
    },
    "executionInfo": {
     "elapsed": 1582,
     "status": "ok",
     "timestamp": 1663232256250,
     "user": {
      "displayName": "Mohamed Abdelaziz",
      "userId": "01616551640765090886"
     },
     "user_tz": -120
    },
    "id": "B4ed1lx2BOJT",
    "outputId": "67ca8a5f-b348-4bf6-9737-58ed3a22ed14"
   },
   "outputs": [
    {
     "name": "stdout",
     "output_type": "stream",
     "text": [
      "Model: \"sequential\"\n",
      "_________________________________________________________________\n",
      " Layer (type)                Output Shape              Param #   \n",
      "=================================================================\n",
      " conv2d (Conv2D)             (None, 56, 56, 96)        34944     \n",
      "                                                                 \n",
      " max_pooling2d (MaxPooling2D  (None, 27, 27, 96)       0         \n",
      " )                                                               \n",
      "                                                                 \n",
      " conv2d_1 (Conv2D)           (None, 27, 27, 256)       614656    \n",
      "                                                                 \n",
      " max_pooling2d_1 (MaxPooling  (None, 13, 13, 256)      0         \n",
      " 2D)                                                             \n",
      "                                                                 \n",
      " conv2d_2 (Conv2D)           (None, 13, 13, 384)       885120    \n",
      "                                                                 \n",
      " conv2d_3 (Conv2D)           (None, 13, 13, 384)       1327488   \n",
      "                                                                 \n",
      " conv2d_4 (Conv2D)           (None, 13, 13, 384)       1327488   \n",
      "                                                                 \n",
      " conv2d_5 (Conv2D)           (None, 13, 13, 256)       884992    \n",
      "                                                                 \n",
      " max_pooling2d_2 (MaxPooling  (None, 6, 6, 256)        0         \n",
      " 2D)                                                             \n",
      "                                                                 \n",
      " flatten (Flatten)           (None, 9216)              0         \n",
      "                                                                 \n",
      " dense (Dense)               (None, 4096)              37752832  \n",
      "                                                                 \n",
      " dense_1 (Dense)             (None, 4096)              16781312  \n",
      "                                                                 \n",
      " dense_2 (Dense)             (None, 1)                 4097      \n",
      "                                                                 \n",
      "=================================================================\n",
      "Total params: 59,612,929\n",
      "Trainable params: 59,612,929\n",
      "Non-trainable params: 0\n",
      "_________________________________________________________________\n"
     ]
    }
   ],
   "source": [
    "from keras.layers import Dense, Input, Dropout,Conv2D,AvgPool2D,Flatten\n",
    "\n",
    "model = keras.Sequential()\n",
    "model.add(Input(shape=(224, 224,3)))\n",
    "\n",
    "#  model.add(Conv2D(filters=6,kernel_size=5,strides=(1,1),padding='same',activation='relu'))\n",
    "\n",
    "model.add(Conv2D(filters=96,kernel_size=11,strides=(4,4),padding='same',activation='relu'))\n",
    "model.add(MaxPooling2D(pool_size=(3,3),strides=(2,2)))\n",
    "\n",
    "model.add(Conv2D(filters=256,kernel_size=5,strides=(1,1),padding='same',activation='relu'))\n",
    "model.add(MaxPooling2D(pool_size=(3,3),strides=(2,2)))\n",
    "\n",
    "model.add(Conv2D(filters=384,kernel_size=3,strides=(1,1),padding='same',activation='relu'))\n",
    "\n",
    "model.add(Conv2D(filters=384,kernel_size=3,strides=(1,1),padding='same',activation='relu'))\n",
    "\n",
    "model.add(Conv2D(filters=384,kernel_size=3,strides=(1,1),padding='same',activation='relu'))\n",
    "\n",
    "model.add(Conv2D(filters=256,kernel_size=3,strides=(1,1),padding='same',activation='relu'))\n",
    "model.add(MaxPooling2D(pool_size=(3,3),strides=(2,2)))\n",
    "\n",
    "\n",
    "\n",
    "\n",
    "model.add(Flatten()) \n",
    "model.add(Dense(4096, activation='relu'))\n",
    "model.add(Dense(4096, activation='relu'))\n",
    "model.add(Dense(1, activation='sigmoid'))\n",
    "\n",
    "model.summary()"
   ]
  },
  {
   "cell_type": "code",
   "execution_count": 10,
   "metadata": {
    "executionInfo": {
     "elapsed": 2,
     "status": "ok",
     "timestamp": 1663232256250,
     "user": {
      "displayName": "Mohamed Abdelaziz",
      "userId": "01616551640765090886"
     },
     "user_tz": -120
    },
    "id": "iaXfjuW-CGVj"
   },
   "outputs": [],
   "source": [
    "model.compile(optimizer='sgd',loss= 'binary_crossentropy',metrics=['accuracy',Recall()])\n"
   ]
  },
  {
   "cell_type": "code",
   "execution_count": 11,
   "metadata": {
    "colab": {
     "base_uri": "https://localhost:8080/"
    },
    "executionInfo": {
     "elapsed": 149912,
     "status": "ok",
     "timestamp": 1663232406160,
     "user": {
      "displayName": "Mohamed Abdelaziz",
      "userId": "01616551640765090886"
     },
     "user_tz": -120
    },
    "id": "deizHuBovwDz",
    "outputId": "7731b1b6-ded0-435f-f5cf-68e6a66a91f2"
   },
   "outputs": [
    {
     "name": "stdout",
     "output_type": "stream",
     "text": [
      "Epoch 1/20\n",
      "7/7 [==============================] - 12s 1s/step - loss: 0.6999 - accuracy: 0.4107 - recall: 0.8125 - val_loss: 0.6907 - val_accuracy: 0.5333 - val_recall: 1.0000\n",
      "Epoch 2/20\n",
      "7/7 [==============================] - 7s 1s/step - loss: 0.6966 - accuracy: 0.3750 - recall: 0.7143 - val_loss: 0.6892 - val_accuracy: 0.5333 - val_recall: 1.0000\n",
      "Epoch 3/20\n",
      "7/7 [==============================] - 8s 1s/step - loss: 0.6947 - accuracy: 0.3616 - recall: 0.1875 - val_loss: 0.6882 - val_accuracy: 0.5000 - val_recall: 1.0000\n",
      "Epoch 4/20\n",
      "7/7 [==============================] - 7s 1s/step - loss: 0.6938 - accuracy: 0.3884 - recall: 0.7679 - val_loss: 0.6870 - val_accuracy: 0.5167 - val_recall: 1.0000\n",
      "Epoch 5/20\n",
      "7/7 [==============================] - 7s 953ms/step - loss: 0.6926 - accuracy: 0.5670 - recall: 0.9554 - val_loss: 0.6858 - val_accuracy: 0.5167 - val_recall: 1.0000\n",
      "Epoch 6/20\n",
      "7/7 [==============================] - 7s 1s/step - loss: 0.6908 - accuracy: 0.5223 - recall: 0.2946 - val_loss: 0.6848 - val_accuracy: 0.5000 - val_recall: 1.0000\n",
      "Epoch 7/20\n",
      "7/7 [==============================] - 7s 1s/step - loss: 0.6912 - accuracy: 0.5045 - recall: 1.0000 - val_loss: 0.6831 - val_accuracy: 0.5500 - val_recall: 1.0000\n",
      "Epoch 8/20\n",
      "7/7 [==============================] - 7s 942ms/step - loss: 0.6892 - accuracy: 0.5134 - recall: 0.4554 - val_loss: 0.6816 - val_accuracy: 0.5167 - val_recall: 1.0000\n",
      "Epoch 9/20\n",
      "7/7 [==============================] - 7s 937ms/step - loss: 0.6887 - accuracy: 0.5982 - recall: 0.9732 - val_loss: 0.6804 - val_accuracy: 0.5333 - val_recall: 1.0000\n",
      "Epoch 10/20\n",
      "7/7 [==============================] - 7s 1s/step - loss: 0.6879 - accuracy: 0.5134 - recall: 1.0000 - val_loss: 0.6783 - val_accuracy: 0.9167 - val_recall: 1.0000\n",
      "Epoch 11/20\n",
      "7/7 [==============================] - 7s 947ms/step - loss: 0.6865 - accuracy: 0.6295 - recall: 0.9375 - val_loss: 0.6759 - val_accuracy: 0.9500 - val_recall: 1.0000\n",
      "Epoch 12/20\n",
      "7/7 [==============================] - 7s 1s/step - loss: 0.6832 - accuracy: 0.6071 - recall: 1.0000 - val_loss: 0.6747 - val_accuracy: 0.9833 - val_recall: 0.9667\n",
      "Epoch 13/20\n",
      "7/7 [==============================] - 7s 1s/step - loss: 0.6837 - accuracy: 0.7009 - recall: 0.5000 - val_loss: 0.6714 - val_accuracy: 0.8500 - val_recall: 1.0000\n",
      "Epoch 14/20\n",
      "7/7 [==============================] - 7s 1s/step - loss: 0.6787 - accuracy: 0.7455 - recall: 0.5982 - val_loss: 0.6679 - val_accuracy: 0.5667 - val_recall: 1.0000\n",
      "Epoch 15/20\n",
      "7/7 [==============================] - 7s 951ms/step - loss: 0.6798 - accuracy: 0.6384 - recall: 1.0000 - val_loss: 0.6617 - val_accuracy: 0.8667 - val_recall: 1.0000\n",
      "Epoch 16/20\n",
      "7/7 [==============================] - 7s 1s/step - loss: 0.6758 - accuracy: 0.6830 - recall: 0.9554 - val_loss: 0.6586 - val_accuracy: 0.9833 - val_recall: 1.0000\n",
      "Epoch 17/20\n",
      "7/7 [==============================] - 7s 1s/step - loss: 0.6671 - accuracy: 0.6384 - recall: 1.0000 - val_loss: 0.6572 - val_accuracy: 0.7500 - val_recall: 0.5000\n",
      "Epoch 18/20\n",
      "7/7 [==============================] - 7s 1s/step - loss: 0.6673 - accuracy: 0.6786 - recall: 0.3661 - val_loss: 0.6476 - val_accuracy: 0.6000 - val_recall: 1.0000\n",
      "Epoch 19/20\n",
      "7/7 [==============================] - 7s 1s/step - loss: 0.6612 - accuracy: 0.6295 - recall: 0.5714 - val_loss: 0.6399 - val_accuracy: 0.5500 - val_recall: 1.0000\n",
      "Epoch 20/20\n",
      "7/7 [==============================] - 7s 1s/step - loss: 0.6711 - accuracy: 0.5893 - recall: 0.7143 - val_loss: 0.6365 - val_accuracy: 0.9667 - val_recall: 0.9667\n"
     ]
    }
   ],
   "source": [
    "#results = model.fit(x=x_train, y=y_train,shuffle=True,epochs=10)\n",
    "results=model.fit(\n",
    "    train_set,\n",
    "    shuffle=True,\n",
    "    epochs=20,\n",
    "    validation_data=(test_set),\n",
    "    steps_per_epoch=len(train_set)\n",
    "    #validation_steps=len(test_set)\n",
    "    )"
   ]
  },
  {
   "cell_type": "code",
   "execution_count": 12,
   "metadata": {
    "colab": {
     "base_uri": "https://localhost:8080/"
    },
    "executionInfo": {
     "elapsed": 3509,
     "status": "ok",
     "timestamp": 1663232409661,
     "user": {
      "displayName": "Mohamed Abdelaziz",
      "userId": "01616551640765090886"
     },
     "user_tz": -120
    },
    "id": "8_KBsIYbvzWi",
    "outputId": "c04e7951-f363-4f99-c007-89a91ae0b7b6"
   },
   "outputs": [
    {
     "name": "stdout",
     "output_type": "stream",
     "text": [
      "2/2 [==============================] - 2s 494ms/step - loss: 0.6365 - accuracy: 0.9667 - recall: 0.9667\n"
     ]
    }
   ],
   "source": [
    "score = model.evaluate(test_set)"
   ]
  },
  {
   "cell_type": "code",
   "execution_count": 18,
   "metadata": {
    "colab": {
     "base_uri": "https://localhost:8080/"
    },
    "executionInfo": {
     "elapsed": 11557,
     "status": "ok",
     "timestamp": 1663232485087,
     "user": {
      "displayName": "Mohamed Abdelaziz",
      "userId": "01616551640765090886"
     },
     "user_tz": -120
    },
    "id": "Dyy6C3gEv0jY",
    "outputId": "b73dca10-ca8b-45a4-ff40-21a479b1a81d"
   },
   "outputs": [
    {
     "name": "stdout",
     "output_type": "stream",
     "text": [
      "Drive already mounted at /content/drive; to attempt to forcibly remount, call drive.mount(\"/content/drive\", force_remount=True).\n"
     ]
    }
   ],
   "source": [
    "from google.colab import drive\n",
    "drive.mount('/content/drive')\n",
    "from keras.models import save_model\n",
    "model.save('/content/drive/MyDrive/savedModels/covid-19.h5')"
   ]
  },
  {
   "cell_type": "code",
   "execution_count": 27,
   "metadata": {
    "colab": {
     "base_uri": "https://localhost:8080/"
    },
    "executionInfo": {
     "elapsed": 2051,
     "status": "ok",
     "timestamp": 1663233104597,
     "user": {
      "displayName": "Mohamed Abdelaziz",
      "userId": "01616551640765090886"
     },
     "user_tz": -120
    },
    "id": "6EhRazYjv0gI",
    "outputId": "6eebe748-eeb3-41ce-fc1c-ac773a4e2420"
   },
   "outputs": [
    {
     "data": {
      "text/plain": [
       "array([[0],\n",
       "       [0],\n",
       "       [0],\n",
       "       [0],\n",
       "       [0],\n",
       "       [0],\n",
       "       [0],\n",
       "       [0],\n",
       "       [0],\n",
       "       [0],\n",
       "       [0],\n",
       "       [0],\n",
       "       [0],\n",
       "       [0],\n",
       "       [0],\n",
       "       [1],\n",
       "       [0],\n",
       "       [0],\n",
       "       [0],\n",
       "       [0],\n",
       "       [0],\n",
       "       [0],\n",
       "       [0],\n",
       "       [0],\n",
       "       [0],\n",
       "       [0],\n",
       "       [0],\n",
       "       [0],\n",
       "       [0],\n",
       "       [0],\n",
       "       [1],\n",
       "       [1],\n",
       "       [1],\n",
       "       [1],\n",
       "       [1],\n",
       "       [1],\n",
       "       [1],\n",
       "       [1],\n",
       "       [1],\n",
       "       [1],\n",
       "       [1],\n",
       "       [1],\n",
       "       [1],\n",
       "       [1],\n",
       "       [1],\n",
       "       [1],\n",
       "       [1],\n",
       "       [1],\n",
       "       [1],\n",
       "       [1],\n",
       "       [1],\n",
       "       [1],\n",
       "       [1],\n",
       "       [1],\n",
       "       [1],\n",
       "       [1],\n",
       "       [1],\n",
       "       [1],\n",
       "       [1],\n",
       "       [0]])"
      ]
     },
     "execution_count": 27,
     "metadata": {},
     "output_type": "execute_result"
    }
   ],
   "source": [
    "pred = model.predict(test_set)\n",
    "pred = ((pred>=0.5).astype(int))\n",
    "pred"
   ]
  },
  {
   "cell_type": "code",
   "execution_count": 15,
   "metadata": {
    "executionInfo": {
     "elapsed": 5,
     "status": "ok",
     "timestamp": 1663232409662,
     "user": {
      "displayName": "Mohamed Abdelaziz",
      "userId": "01616551640765090886"
     },
     "user_tz": -120
    },
    "id": "eWHI_S3Cv0cX"
   },
   "outputs": [],
   "source": [
    "# from numpy import argmax\n",
    "# pred1 = argmax(pred,axis=1)"
   ]
  },
  {
   "cell_type": "code",
   "execution_count": 16,
   "metadata": {
    "executionInfo": {
     "elapsed": 5,
     "status": "ok",
     "timestamp": 1663232409662,
     "user": {
      "displayName": "Mohamed Abdelaziz",
      "userId": "01616551640765090886"
     },
     "user_tz": -120
    },
    "id": "nRCdrH8Tv0Tr"
   },
   "outputs": [],
   "source": [
    "# plt.imshow(x_test[230],cmap='gray')\n",
    "# print(pred[230])\n",
    "# print(pred1[230])"
   ]
  },
  {
   "cell_type": "code",
   "execution_count": 28,
   "metadata": {
    "colab": {
     "base_uri": "https://localhost:8080/"
    },
    "executionInfo": {
     "elapsed": 319,
     "status": "ok",
     "timestamp": 1663233117583,
     "user": {
      "displayName": "Mohamed Abdelaziz",
      "userId": "01616551640765090886"
     },
     "user_tz": -120
    },
    "id": "3VkOGoRmv0Fh",
    "outputId": "26ddd154-cf54-4514-dc3d-9df70aee3f2e"
   },
   "outputs": [
    {
     "name": "stdout",
     "output_type": "stream",
     "text": [
      "[[29  1]\n",
      " [ 1 29]]\n",
      "0.9666666666666667\n"
     ]
    }
   ],
   "source": [
    "from sklearn.metrics import accuracy_score\n",
    "from sklearn.metrics import confusion_matrix\n",
    "print(confusion_matrix(pred,test_set.labels))\n",
    "print(accuracy_score(pred, test_set.labels))"
   ]
  },
  {
   "cell_type": "code",
   "execution_count": 17,
   "metadata": {
    "executionInfo": {
     "elapsed": 6,
     "status": "ok",
     "timestamp": 1663232409663,
     "user": {
      "displayName": "Mohamed Abdelaziz",
      "userId": "01616551640765090886"
     },
     "user_tz": -120
    },
    "id": "ZF0GUGi9v9AB"
   },
   "outputs": [],
   "source": []
  }
 ],
 "metadata": {
  "accelerator": "GPU",
  "colab": {
   "authorship_tag": "ABX9TyPGGSSMlNgOoY4hMBDzfeXo",
   "collapsed_sections": [],
   "mount_file_id": "15bSj8r8aeohJBJQMZ6dq1YONIeU-ji1y",
   "provenance": []
  },
  "gpuClass": "standard",
  "kernelspec": {
   "display_name": "Python 3 (ipykernel)",
   "language": "python",
   "name": "python3"
  },
  "language_info": {
   "codemirror_mode": {
    "name": "ipython",
    "version": 3
   },
   "file_extension": ".py",
   "mimetype": "text/x-python",
   "name": "python",
   "nbconvert_exporter": "python",
   "pygments_lexer": "ipython3",
   "version": "3.10.5"
  }
 },
 "nbformat": 4,
 "nbformat_minor": 1
}
